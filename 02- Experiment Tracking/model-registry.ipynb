{
 "cells": [
  {
   "cell_type": "code",
   "execution_count": 19,
   "id": "3e581a6c",
   "metadata": {},
   "outputs": [],
   "source": [
    "from mlflow.tracking import MlflowClient\n",
    "from mlflow.entities import ViewType\n",
    "import mlflow"
   ]
  },
  {
   "cell_type": "code",
   "execution_count": 29,
   "id": "76d6637b",
   "metadata": {},
   "outputs": [],
   "source": [
    "\n",
    "\n",
    "\n",
    "MLFLOW_TRACKING_URI = \"sqlite:///mlflow.db\"\n",
    "client = MlflowClient(tracking_uri=MLFLOW_TRACKING_URI)\n"
   ]
  },
  {
   "cell_type": "code",
   "execution_count": 30,
   "id": "e9770673",
   "metadata": {},
   "outputs": [
    {
     "data": {
      "text/plain": [
       "[<Experiment: artifact_location='/home/mlops_zoomcamp/notebooks/02- Experiment Tracking/mlruns/2', creation_time=1685393923973, experiment_id='2', last_update_time=1685393923973, lifecycle_stage='active', name='my-cool-experiment', tags={}>,\n",
       " <Experiment: artifact_location='/home/mlops_zoomcamp/notebooks/02- Experiment Tracking/mlruns/1', creation_time=1685290772018, experiment_id='1', last_update_time=1685290772018, lifecycle_stage='active', name='nyc-taxi-experiment', tags={}>,\n",
       " <Experiment: artifact_location='mlflow-artifacts:/0', creation_time=1684956958338, experiment_id='0', last_update_time=1684956958338, lifecycle_stage='active', name='Default', tags={}>]"
      ]
     },
     "execution_count": 30,
     "metadata": {},
     "output_type": "execute_result"
    }
   ],
   "source": [
    "client.search_experiments()"
   ]
  },
  {
   "cell_type": "code",
   "execution_count": 7,
   "id": "863293f2",
   "metadata": {},
   "outputs": [
    {
     "data": {
      "text/plain": [
       "'2'"
      ]
     },
     "execution_count": 7,
     "metadata": {},
     "output_type": "execute_result"
    }
   ],
   "source": [
    "client.create_experiment(name=\"my-cool-experiment\")\n"
   ]
  },
  {
   "cell_type": "code",
   "execution_count": 35,
   "id": "386b1b16",
   "metadata": {},
   "outputs": [],
   "source": [
    "runs = client.search_runs(\n",
    "    experiment_ids=\"1\",\n",
    "    filter_string=\"\",\n",
    "    run_view_type=ViewType.ACTIVE_ONLY,\n",
    "    max_results=5,\n",
    "    order_by=[\"metrics.rmse ASC\"],\n",
    ")"
   ]
  },
  {
   "cell_type": "code",
   "execution_count": 36,
   "id": "e990c90e",
   "metadata": {},
   "outputs": [
    {
     "name": "stdout",
     "output_type": "stream",
     "text": [
      "runid b5016e2ed4b643a98c9a64dde68bda2d , rmse 6.3028\n",
      "runid a97fa0b41b794f7097794bff6e7738c9 , rmse 6.3028\n",
      "runid f3939f8b4d8b40dfad811d97c336abae , rmse 6.3082\n",
      "runid 4cf605bf44194f2fbf858d7303bc667f , rmse 6.3133\n",
      "runid b920ad29ba7746fea0e41d30cb495ede , rmse 6.3297\n"
     ]
    }
   ],
   "source": [
    "for r in runs:\n",
    "    print(f\"runid {r.info.run_id} , rmse {r.data.metrics['rmse']:.4f}\" )"
   ]
  },
  {
   "cell_type": "code",
   "execution_count": 13,
   "id": "a2080ad2",
   "metadata": {},
   "outputs": [],
   "source": []
  },
  {
   "cell_type": "code",
   "execution_count": 31,
   "id": "27c90302",
   "metadata": {},
   "outputs": [],
   "source": [
    "mlflow.set_tracking_uri(MLFLOW_TRACKING_URI)"
   ]
  },
  {
   "cell_type": "code",
   "execution_count": 17,
   "id": "b62b5224",
   "metadata": {},
   "outputs": [
    {
     "name": "stderr",
     "output_type": "stream",
     "text": [
      "Registered model 'nyc-taxi-regressor' already exists. Creating a new version of this model...\n",
      "2023/06/01 11:13:01 INFO mlflow.tracking._model_registry.client: Waiting up to 300 seconds for model version to finish creation. Model name: nyc-taxi-regressor, version 3\n",
      "Created version '3' of model 'nyc-taxi-regressor'.\n"
     ]
    },
    {
     "data": {
      "text/plain": [
       "<ModelVersion: aliases=[], creation_timestamp=1685617981918, current_stage='None', description=None, last_updated_timestamp=1685617981918, name='nyc-taxi-regressor', run_id='f3939f8b4d8b40dfad811d97c336abae', run_link=None, source=('/home/mlops_zoomcamp/notebooks/02- Experiment '\n",
       " 'Tracking/mlruns/1/f3939f8b4d8b40dfad811d97c336abae/artifacts/model'), status='READY', status_message=None, tags={}, user_id=None, version=3>"
      ]
     },
     "execution_count": 17,
     "metadata": {},
     "output_type": "execute_result"
    }
   ],
   "source": [
    "run_id = \"f3939f8b4d8b40dfad811d97c336abae\"\n",
    "model_uri =f\"runs:/{run_id}/model\"\n",
    "mlflow.register_model(model_uri, name = \"nyc-taxi-regressor\")"
   ]
  },
  {
   "cell_type": "code",
   "execution_count": 25,
   "id": "79742223",
   "metadata": {},
   "outputs": [
    {
     "data": {
      "text/plain": [
       "[<RegisteredModel: aliases={}, creation_timestamp=1685617896711, description=None, last_updated_timestamp=1685617896726, latest_versions=[<ModelVersion: aliases=[], creation_timestamp=1685617896726, current_stage='None', description=None, last_updated_timestamp=1685617896726, name='nyc-taxi-experiment', run_id='f3939f8b4d8b40dfad811d97c336abae', run_link=None, source=('/home/mlops_zoomcamp/notebooks/02- Experiment '\n",
       "  'Tracking/mlruns/1/f3939f8b4d8b40dfad811d97c336abae/artifacts/model'), status='READY', status_message=None, tags={}, user_id=None, version=1>], name='nyc-taxi-experiment', tags={}>,\n",
       " <RegisteredModel: aliases={}, creation_timestamp=1685613641362, description='The NYC taxi predictor for duration prediction', last_updated_timestamp=1685618955008, latest_versions=[<ModelVersion: aliases=[], creation_timestamp=1685617981918, current_stage='Staging', description=None, last_updated_timestamp=1685618955008, name='nyc-taxi-regressor', run_id='f3939f8b4d8b40dfad811d97c336abae', run_link=None, source=('/home/mlops_zoomcamp/notebooks/02- Experiment '\n",
       "  'Tracking/mlruns/1/f3939f8b4d8b40dfad811d97c336abae/artifacts/model'), status='READY', status_message=None, tags={}, user_id=None, version=3>], name='nyc-taxi-regressor', tags={}>]"
      ]
     },
     "execution_count": 25,
     "metadata": {},
     "output_type": "execute_result"
    }
   ],
   "source": [
    "model_name = \"nyc-taxi-regressor\"\n",
    "client.search_registered_models()"
   ]
  },
  {
   "cell_type": "code",
   "execution_count": 26,
   "id": "124fc08d",
   "metadata": {},
   "outputs": [],
   "source": [
    "latest_versions =client.get_latest_versions(name=model_name)"
   ]
  },
  {
   "cell_type": "code",
   "execution_count": 24,
   "id": "32aed034",
   "metadata": {},
   "outputs": [
    {
     "name": "stdout",
     "output_type": "stream",
     "text": [
      "version: 3 stage: Staging\n"
     ]
    }
   ],
   "source": [
    "for version in latest_versions:\n",
    "    print(f\"version: {version.version} stage: {version.current_stage}\")"
   ]
  },
  {
   "cell_type": "code",
   "execution_count": 26,
   "id": "dc1d4169",
   "metadata": {},
   "outputs": [
    {
     "data": {
      "text/plain": [
       "<ModelVersion: aliases=[], creation_timestamp=1685617981918, current_stage='Staging', description=None, last_updated_timestamp=1685618955008, name='nyc-taxi-regressor', run_id='f3939f8b4d8b40dfad811d97c336abae', run_link=None, source=('/home/mlops_zoomcamp/notebooks/02- Experiment '\n",
       " 'Tracking/mlruns/1/f3939f8b4d8b40dfad811d97c336abae/artifacts/model'), status='READY', status_message=None, tags={}, user_id=None, version=3>"
      ]
     },
     "execution_count": 26,
     "metadata": {},
     "output_type": "execute_result"
    }
   ],
   "source": [
    "client.transition_model_version_stage(\n",
    "    name=model_name,\n",
    "    version=3,\n",
    "    stage=\"Staging\",\n",
    "    archive_existing_versions=False\n",
    ")"
   ]
  },
  {
   "cell_type": "code",
   "execution_count": 27,
   "id": "6bbe533c",
   "metadata": {},
   "outputs": [],
   "source": [
    "from datetime import datetime"
   ]
  },
  {
   "cell_type": "code",
   "execution_count": 33,
   "id": "03e00fe3",
   "metadata": {},
   "outputs": [
    {
     "data": {
      "text/plain": [
       "<ModelVersion: aliases=[], creation_timestamp=1685613641777, current_stage='Staging', description='model version 1 was transitioned to Staging on 2023-06-01', last_updated_timestamp=1685619672596, name='nyc-taxi-regressor', run_id='f840d8cdc2ca446f8b16c8a29be789b7', run_link='', source=('/home/mlops_zoomcamp/notebooks/02- Experiment '\n",
       " 'Tracking/mlruns/1/f840d8cdc2ca446f8b16c8a29be789b7/artifacts/models_mlflow'), status='READY', status_message=None, tags={}, user_id=None, version=1>"
      ]
     },
     "execution_count": 33,
     "metadata": {},
     "output_type": "execute_result"
    }
   ],
   "source": [
    "model_version = 1\n",
    "new_stage=\"Staging\"\n",
    "date = datetime.today().date()\n",
    "\n",
    "client.update_model_version(\n",
    "name=model_name,\n",
    "version = model_version,\n",
    "description =f\"model version {model_version} was transitioned to {new_stage} on {date}\"\n",
    ")"
   ]
  },
  {
   "cell_type": "code",
   "execution_count": null,
   "id": "9ac38c01",
   "metadata": {},
   "outputs": [],
   "source": []
  },
  {
   "cell_type": "code",
   "execution_count": 10,
   "id": "bc707ef8",
   "metadata": {},
   "outputs": [],
   "source": [
    "from sklearn.metrics import mean_squared_error\n",
    "import pandas as pd\n",
    "\n",
    "\n",
    "def read_dataframe(filename):\n",
    "    df = pd.read_parquet(filename)\n",
    "\n",
    "    df.lpep_dropoff_datetime = pd.to_datetime(df.lpep_dropoff_datetime)\n",
    "    df.lpep_pickup_datetime = pd.to_datetime(df.lpep_pickup_datetime)\n",
    "\n",
    "    df['duration'] = df.lpep_dropoff_datetime - df.lpep_pickup_datetime\n",
    "    df.duration = df.duration.apply(lambda td: td.total_seconds() / 60)\n",
    "\n",
    "    df = df[(df.duration >= 1) & (df.duration <= 60)]\n",
    "\n",
    "    categorical = ['PULocationID', 'DOLocationID']\n",
    "    df[categorical] = df[categorical].astype(str)\n",
    "    \n",
    "    return df\n",
    "\n",
    "\n",
    "def preprocess(df, dv):\n",
    "    df['PU_DO'] = df['PULocationID'] + '_' + df['DOLocationID']\n",
    "    categorical = ['PU_DO']\n",
    "    numerical = ['trip_distance']\n",
    "    train_dicts = df[categorical + numerical].to_dict(orient='records')\n",
    "    return dv.transform(train_dicts)\n",
    "\n",
    "\n",
    "def test_model(name, stage, X_test, y_test):\n",
    "    model = mlflow.pyfunc.load_model(f\"models:/{name}/{stage}\")\n",
    "    y_pred = model.predict(X_test)\n",
    "    return {\"rmse\": mean_squared_error(y_test, y_pred, squared=False)}"
   ]
  },
  {
   "cell_type": "code",
   "execution_count": 11,
   "id": "4b294c54",
   "metadata": {},
   "outputs": [
    {
     "data": {
      "text/plain": [
       "'/home/mlops_zoomcamp/notebooks/02- Experiment Tracking'"
      ]
     },
     "execution_count": 11,
     "metadata": {},
     "output_type": "execute_result"
    }
   ],
   "source": [
    "import os \n",
    "os.getcwd()"
   ]
  },
  {
   "cell_type": "code",
   "execution_count": 12,
   "id": "80b42a5a",
   "metadata": {},
   "outputs": [],
   "source": [
    "df = read_dataframe(\"/home/mlops_zoomcamp/notebooks/data/green_tripdata_2021-03.parquet\")\n"
   ]
  },
  {
   "cell_type": "code",
   "execution_count": 32,
   "id": "4efebede",
   "metadata": {},
   "outputs": [],
   "source": [
    "mlflow.set_tracking_uri(MLFLOW_TRACKING_URI)"
   ]
  },
  {
   "cell_type": "code",
   "execution_count": 13,
   "id": "a9a8b496",
   "metadata": {},
   "outputs": [
    {
     "name": "stderr",
     "output_type": "stream",
     "text": [
      "/tmp/ipykernel_25495/4206337130.py:2: FutureWarning: ``mlflow.tracking.client.MlflowClient.download_artifacts`` is deprecated since 2.0. This method will be removed in a future release. Use ``mlflow.artifacts.download_artifacts`` instead.\n",
      "  client.download_artifacts(run_id=run_id, path='preprocessor', dst_path='.')\n"
     ]
    },
    {
     "data": {
      "text/plain": [
       "'/home/mlops_zoomcamp/notebooks/02- Experiment Tracking/preprocessor'"
      ]
     },
     "execution_count": 13,
     "metadata": {},
     "output_type": "execute_result"
    }
   ],
   "source": [
    "run_id = \"f840d8cdc2ca446f8b16c8a29be789b7\"\n",
    "client.download_artifacts(run_id=run_id, path='preprocessor', dst_path='.')\n"
   ]
  },
  {
   "cell_type": "code",
   "execution_count": 15,
   "id": "a578478e",
   "metadata": {},
   "outputs": [],
   "source": [
    "import pickle\n",
    "\n",
    "with open(\"preprocessor/preprocessor.b\", \"rb\") as f_in:\n",
    "    dv = pickle.load(f_in)"
   ]
  },
  {
   "cell_type": "code",
   "execution_count": 16,
   "id": "1cfd6eea",
   "metadata": {},
   "outputs": [],
   "source": [
    "X_test = preprocess(df, dv)\n"
   ]
  },
  {
   "cell_type": "code",
   "execution_count": 17,
   "id": "540cc642",
   "metadata": {},
   "outputs": [],
   "source": [
    "target = \"duration\"\n",
    "y_test = df[target].values"
   ]
  },
  {
   "cell_type": "code",
   "execution_count": 33,
   "id": "e003c7f6",
   "metadata": {},
   "outputs": [
    {
     "name": "stderr",
     "output_type": "stream",
     "text": [
      "2023/06/01 12:33:11 WARNING mlflow.pyfunc: Detected one or more mismatches between the model's dependencies and the current Python environment:\n",
      " - mlflow (current: 2.3.2, required: mlflow==2.3)\n",
      "To fix the mismatches, call `mlflow.pyfunc.get_model_dependencies(model_uri)` to fetch the model's environment and install dependencies using the resulting environment file.\n"
     ]
    },
    {
     "name": "stdout",
     "output_type": "stream",
     "text": [
      "[12:33:11] WARNING: ../src/objective/regression_obj.cu:213: reg:linear is now deprecated in favor of reg:squarederror.\n",
      "CPU times: user 1.35 s, sys: 45.2 ms, total: 1.4 s\n",
      "Wall time: 1.07 s\n"
     ]
    },
    {
     "data": {
      "text/plain": [
       "{'rmse': 6.308880507610186}"
      ]
     },
     "execution_count": 33,
     "metadata": {},
     "output_type": "execute_result"
    }
   ],
   "source": [
    "model_name= \"nyc-taxi-regressor\"\n",
    "%time test_model(name=model_name, stage=\"Production\", X_test=X_test, y_test=y_test)"
   ]
  },
  {
   "cell_type": "code",
   "execution_count": 37,
   "id": "dfbf132c",
   "metadata": {},
   "outputs": [
    {
     "name": "stderr",
     "output_type": "stream",
     "text": [
      "2023/06/01 12:51:55 WARNING mlflow.pyfunc: Detected one or more mismatches between the model's dependencies and the current Python environment:\n",
      " - mlflow (current: 2.3.2, required: mlflow==2.3)\n",
      "To fix the mismatches, call `mlflow.pyfunc.get_model_dependencies(model_uri)` to fetch the model's environment and install dependencies using the resulting environment file.\n"
     ]
    },
    {
     "name": "stdout",
     "output_type": "stream",
     "text": [
      "[12:51:55] WARNING: ../src/objective/regression_obj.cu:213: reg:linear is now deprecated in favor of reg:squarederror.\n",
      "CPU times: user 2.5 s, sys: 0 ns, total: 2.5 s\n",
      "Wall time: 1.27 s\n"
     ]
    },
    {
     "data": {
      "text/plain": [
       "{'rmse': 6.252644516870416}"
      ]
     },
     "execution_count": 37,
     "metadata": {},
     "output_type": "execute_result"
    }
   ],
   "source": [
    "%time test_model(name=model_name, stage=\"Staging\", X_test=X_test, y_test=y_test)\n"
   ]
  },
  {
   "cell_type": "code",
   "execution_count": 38,
   "id": "339d5fa0",
   "metadata": {},
   "outputs": [
    {
     "data": {
      "text/plain": [
       "<ModelVersion: aliases=[], creation_timestamp=1685613641777, current_stage='Production', description='model version 1 was transitioned to Staging on 2023-06-01', last_updated_timestamp=1685623985494, name='nyc-taxi-regressor', run_id='f840d8cdc2ca446f8b16c8a29be789b7', run_link='', source=('/home/mlops_zoomcamp/notebooks/02- Experiment '\n",
       " 'Tracking/mlruns/1/f840d8cdc2ca446f8b16c8a29be789b7/artifacts/models_mlflow'), status='READY', status_message=None, tags={}, user_id=None, version=1>"
      ]
     },
     "execution_count": 38,
     "metadata": {},
     "output_type": "execute_result"
    }
   ],
   "source": [
    "client.transition_model_version_stage(\n",
    "    name=model_name,\n",
    "    version=1,\n",
    "    stage=\"Production\",\n",
    "    archive_existing_versions=True\n",
    ")"
   ]
  },
  {
   "cell_type": "code",
   "execution_count": null,
   "id": "3908dd47",
   "metadata": {},
   "outputs": [],
   "source": []
  }
 ],
 "metadata": {
  "kernelspec": {
   "display_name": "exp-tracking-env",
   "language": "python",
   "name": "exp-tracking-env"
  },
  "language_info": {
   "codemirror_mode": {
    "name": "ipython",
    "version": 3
   },
   "file_extension": ".py",
   "mimetype": "text/x-python",
   "name": "python",
   "nbconvert_exporter": "python",
   "pygments_lexer": "ipython3",
   "version": "3.9.16"
  }
 },
 "nbformat": 4,
 "nbformat_minor": 5
}
