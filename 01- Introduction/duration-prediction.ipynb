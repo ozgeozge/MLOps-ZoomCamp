{
 "cells": [
  {
   "cell_type": "code",
   "execution_count": 1,
   "id": "70c54d15",
   "metadata": {},
   "outputs": [
    {
     "name": "stdout",
     "output_type": "stream",
     "text": [
      "Python 3.9.12\r\n"
     ]
    }
   ],
   "source": [
    "!python -V"
   ]
  },
  {
   "cell_type": "code",
   "execution_count": 2,
   "id": "bc10f2d4",
   "metadata": {},
   "outputs": [
    {
     "name": "stdout",
     "output_type": "stream",
     "text": [
      "Requirement already satisfied: pyarrow in /home/mlops_zoomcamp/anaconda3/lib/python3.9/site-packages (12.0.0)\r\n",
      "Requirement already satisfied: numpy>=1.16.6 in /home/mlops_zoomcamp/anaconda3/lib/python3.9/site-packages (from pyarrow) (1.21.5)\r\n"
     ]
    }
   ],
   "source": [
    "!pip install pyarrow"
   ]
  },
  {
   "cell_type": "code",
   "execution_count": 7,
   "id": "77be027a",
   "metadata": {},
   "outputs": [],
   "source": [
    "import pandas as pd\n",
    "import seaborn as sns\n",
    "import matplotlib.pyplot as plt"
   ]
  },
  {
   "cell_type": "code",
   "execution_count": 52,
   "id": "0c7f46cc",
   "metadata": {},
   "outputs": [],
   "source": [
    "from sklearn.feature_extraction import DictVectorizer\n",
    "from sklearn.linear_model import LinearRegression, Lasso, Ridge\n",
    "from sklearn.metrics import mean_squared_error"
   ]
  },
  {
   "cell_type": "code",
   "execution_count": 69,
   "id": "b23db25a",
   "metadata": {},
   "outputs": [],
   "source": [
    "import pickle"
   ]
  },
  {
   "cell_type": "code",
   "execution_count": 30,
   "id": "5823547c",
   "metadata": {},
   "outputs": [],
   "source": [
    "df = pd.read_parquet('./data/green_tripdata_2021-01.parquet')\n",
    "\n",
    "df.lpep_pickup_datetime = pd.to_datetime(df.lpep_pickup_datetime)\n",
    "df.lpep_dropoff_datetime = pd.to_datetime(df.lpep_dropoff_datetime)\n",
    "\n",
    "df['duration']=df.lpep_dropoff_datetime - df.lpep_pickup_datetime \n",
    "\n",
    "df.duration = df.duration.apply(lambda td: td.total_seconds()/60)\n",
    "df= df[((df.duration>=1) &(df.duration<=60))]\n",
    "\n",
    "categorical=['PULocationID', 'DOLocationID']\n",
    "\n",
    "df[categorical]=df[categorical].astype(str)"
   ]
  },
  {
   "cell_type": "code",
   "execution_count": 31,
   "id": "44e3a206",
   "metadata": {},
   "outputs": [
    {
     "data": {
      "text/html": [
       "<div>\n",
       "<style scoped>\n",
       "    .dataframe tbody tr th:only-of-type {\n",
       "        vertical-align: middle;\n",
       "    }\n",
       "\n",
       "    .dataframe tbody tr th {\n",
       "        vertical-align: top;\n",
       "    }\n",
       "\n",
       "    .dataframe thead th {\n",
       "        text-align: right;\n",
       "    }\n",
       "</style>\n",
       "<table border=\"1\" class=\"dataframe\">\n",
       "  <thead>\n",
       "    <tr style=\"text-align: right;\">\n",
       "      <th></th>\n",
       "      <th>VendorID</th>\n",
       "      <th>lpep_pickup_datetime</th>\n",
       "      <th>lpep_dropoff_datetime</th>\n",
       "      <th>store_and_fwd_flag</th>\n",
       "      <th>RatecodeID</th>\n",
       "      <th>PULocationID</th>\n",
       "      <th>DOLocationID</th>\n",
       "      <th>passenger_count</th>\n",
       "      <th>trip_distance</th>\n",
       "      <th>fare_amount</th>\n",
       "      <th>extra</th>\n",
       "      <th>mta_tax</th>\n",
       "      <th>tip_amount</th>\n",
       "      <th>tolls_amount</th>\n",
       "      <th>ehail_fee</th>\n",
       "      <th>improvement_surcharge</th>\n",
       "      <th>total_amount</th>\n",
       "      <th>payment_type</th>\n",
       "      <th>trip_type</th>\n",
       "      <th>congestion_surcharge</th>\n",
       "    </tr>\n",
       "  </thead>\n",
       "  <tbody>\n",
       "    <tr>\n",
       "      <th>0</th>\n",
       "      <td>2</td>\n",
       "      <td>2021-01-01 00:15:56</td>\n",
       "      <td>2021-01-01 00:19:52</td>\n",
       "      <td>N</td>\n",
       "      <td>1.0</td>\n",
       "      <td>43</td>\n",
       "      <td>151</td>\n",
       "      <td>1.0</td>\n",
       "      <td>1.01</td>\n",
       "      <td>5.5</td>\n",
       "      <td>0.5</td>\n",
       "      <td>0.5</td>\n",
       "      <td>0.00</td>\n",
       "      <td>0.0</td>\n",
       "      <td>None</td>\n",
       "      <td>0.3</td>\n",
       "      <td>6.80</td>\n",
       "      <td>2.0</td>\n",
       "      <td>1.0</td>\n",
       "      <td>0.00</td>\n",
       "    </tr>\n",
       "    <tr>\n",
       "      <th>1</th>\n",
       "      <td>2</td>\n",
       "      <td>2021-01-01 00:25:59</td>\n",
       "      <td>2021-01-01 00:34:44</td>\n",
       "      <td>N</td>\n",
       "      <td>1.0</td>\n",
       "      <td>166</td>\n",
       "      <td>239</td>\n",
       "      <td>1.0</td>\n",
       "      <td>2.53</td>\n",
       "      <td>10.0</td>\n",
       "      <td>0.5</td>\n",
       "      <td>0.5</td>\n",
       "      <td>2.81</td>\n",
       "      <td>0.0</td>\n",
       "      <td>None</td>\n",
       "      <td>0.3</td>\n",
       "      <td>16.86</td>\n",
       "      <td>1.0</td>\n",
       "      <td>1.0</td>\n",
       "      <td>2.75</td>\n",
       "    </tr>\n",
       "    <tr>\n",
       "      <th>2</th>\n",
       "      <td>2</td>\n",
       "      <td>2021-01-01 00:45:57</td>\n",
       "      <td>2021-01-01 00:51:55</td>\n",
       "      <td>N</td>\n",
       "      <td>1.0</td>\n",
       "      <td>41</td>\n",
       "      <td>42</td>\n",
       "      <td>1.0</td>\n",
       "      <td>1.12</td>\n",
       "      <td>6.0</td>\n",
       "      <td>0.5</td>\n",
       "      <td>0.5</td>\n",
       "      <td>1.00</td>\n",
       "      <td>0.0</td>\n",
       "      <td>None</td>\n",
       "      <td>0.3</td>\n",
       "      <td>8.30</td>\n",
       "      <td>1.0</td>\n",
       "      <td>1.0</td>\n",
       "      <td>0.00</td>\n",
       "    </tr>\n",
       "    <tr>\n",
       "      <th>3</th>\n",
       "      <td>2</td>\n",
       "      <td>2020-12-31 23:57:51</td>\n",
       "      <td>2021-01-01 00:04:56</td>\n",
       "      <td>N</td>\n",
       "      <td>1.0</td>\n",
       "      <td>168</td>\n",
       "      <td>75</td>\n",
       "      <td>1.0</td>\n",
       "      <td>1.99</td>\n",
       "      <td>8.0</td>\n",
       "      <td>0.5</td>\n",
       "      <td>0.5</td>\n",
       "      <td>0.00</td>\n",
       "      <td>0.0</td>\n",
       "      <td>None</td>\n",
       "      <td>0.3</td>\n",
       "      <td>9.30</td>\n",
       "      <td>2.0</td>\n",
       "      <td>1.0</td>\n",
       "      <td>0.00</td>\n",
       "    </tr>\n",
       "    <tr>\n",
       "      <th>4</th>\n",
       "      <td>2</td>\n",
       "      <td>2021-01-01 00:16:36</td>\n",
       "      <td>2021-01-01 00:16:40</td>\n",
       "      <td>N</td>\n",
       "      <td>2.0</td>\n",
       "      <td>265</td>\n",
       "      <td>265</td>\n",
       "      <td>3.0</td>\n",
       "      <td>0.00</td>\n",
       "      <td>-52.0</td>\n",
       "      <td>0.0</td>\n",
       "      <td>-0.5</td>\n",
       "      <td>0.00</td>\n",
       "      <td>0.0</td>\n",
       "      <td>None</td>\n",
       "      <td>-0.3</td>\n",
       "      <td>-52.80</td>\n",
       "      <td>3.0</td>\n",
       "      <td>1.0</td>\n",
       "      <td>0.00</td>\n",
       "    </tr>\n",
       "  </tbody>\n",
       "</table>\n",
       "</div>"
      ],
      "text/plain": [
       "   VendorID lpep_pickup_datetime lpep_dropoff_datetime store_and_fwd_flag  \\\n",
       "0         2  2021-01-01 00:15:56   2021-01-01 00:19:52                  N   \n",
       "1         2  2021-01-01 00:25:59   2021-01-01 00:34:44                  N   \n",
       "2         2  2021-01-01 00:45:57   2021-01-01 00:51:55                  N   \n",
       "3         2  2020-12-31 23:57:51   2021-01-01 00:04:56                  N   \n",
       "4         2  2021-01-01 00:16:36   2021-01-01 00:16:40                  N   \n",
       "\n",
       "   RatecodeID  PULocationID  DOLocationID  passenger_count  trip_distance  \\\n",
       "0         1.0            43           151              1.0           1.01   \n",
       "1         1.0           166           239              1.0           2.53   \n",
       "2         1.0            41            42              1.0           1.12   \n",
       "3         1.0           168            75              1.0           1.99   \n",
       "4         2.0           265           265              3.0           0.00   \n",
       "\n",
       "   fare_amount  extra  mta_tax  tip_amount  tolls_amount ehail_fee  \\\n",
       "0          5.5    0.5      0.5        0.00           0.0      None   \n",
       "1         10.0    0.5      0.5        2.81           0.0      None   \n",
       "2          6.0    0.5      0.5        1.00           0.0      None   \n",
       "3          8.0    0.5      0.5        0.00           0.0      None   \n",
       "4        -52.0    0.0     -0.5        0.00           0.0      None   \n",
       "\n",
       "   improvement_surcharge  total_amount  payment_type  trip_type  \\\n",
       "0                    0.3          6.80           2.0        1.0   \n",
       "1                    0.3         16.86           1.0        1.0   \n",
       "2                    0.3          8.30           1.0        1.0   \n",
       "3                    0.3          9.30           2.0        1.0   \n",
       "4                   -0.3        -52.80           3.0        1.0   \n",
       "\n",
       "   congestion_surcharge  \n",
       "0                  0.00  \n",
       "1                  2.75  \n",
       "2                  0.00  \n",
       "3                  0.00  \n",
       "4                  0.00  "
      ]
     },
     "execution_count": 31,
     "metadata": {},
     "output_type": "execute_result"
    }
   ],
   "source": [
    "df.head()"
   ]
  },
  {
   "cell_type": "code",
   "execution_count": 12,
   "id": "8c711323",
   "metadata": {},
   "outputs": [],
   "source": [
    "df=df[df.trip_type ==2]"
   ]
  },
  {
   "cell_type": "code",
   "execution_count": 34,
   "id": "6e917ab8",
   "metadata": {},
   "outputs": [
    {
     "name": "stderr",
     "output_type": "stream",
     "text": [
      "/home/mlops_zoomcamp/anaconda3/lib/python3.9/site-packages/seaborn/distributions.py:2619: FutureWarning: `distplot` is a deprecated function and will be removed in a future version. Please adapt your code to use either `displot` (a figure-level function with similar flexibility) or `histplot` (an axes-level function for histograms).\n",
      "  warnings.warn(msg, FutureWarning)\n"
     ]
    },
    {
     "data": {
      "text/plain": [
       "<AxesSubplot:xlabel='duration', ylabel='Density'>"
      ]
     },
     "execution_count": 34,
     "metadata": {},
     "output_type": "execute_result"
    },
    {
     "data": {
      "image/png": "[encoded data removed]",
      "text/plain": [
       "<Figure size 432x288 with 1 Axes>"
      ]
     },
     "metadata": {
      "needs_background": "light"
     },
     "output_type": "display_data"
    }
   ],
   "source": [
    "sns.distplot(df.duration)"
   ]
  },
  {
   "cell_type": "code",
   "execution_count": 35,
   "id": "3d06d9c7",
   "metadata": {},
   "outputs": [
    {
     "data": {
      "text/plain": [
       "count    76518.000000\n",
       "mean        19.927896\n",
       "std         59.338594\n",
       "min          0.000000\n",
       "25%          8.000000\n",
       "50%         13.883333\n",
       "75%         23.000000\n",
       "max       1439.600000\n",
       "Name: duration, dtype: float64"
      ]
     },
     "execution_count": 35,
     "metadata": {},
     "output_type": "execute_result"
    }
   ],
   "source": [
    "df.duration.describe()"
   ]
  },
  {
   "cell_type": "code",
   "execution_count": 37,
   "id": "91c34fd9",
   "metadata": {},
   "outputs": [],
   "source": [
    "df= df[((df.duration>=1) &(df.duration<=60))]"
   ]
  },
  {
   "cell_type": "code",
   "execution_count": 38,
   "id": "b4a3e65e",
   "metadata": {},
   "outputs": [],
   "source": [
    "categorical=['PULocationID', 'DOLocationID']\n",
    "numerical=['trip_distance']"
   ]
  },
  {
   "cell_type": "code",
   "execution_count": 39,
   "id": "538eb66b",
   "metadata": {},
   "outputs": [
    {
     "data": {
      "text/plain": [
       "PULocationID    int64\n",
       "DOLocationID    int64\n",
       "dtype: object"
      ]
     },
     "execution_count": 39,
     "metadata": {},
     "output_type": "execute_result"
    }
   ],
   "source": [
    "df[categorical].dtypes"
   ]
  },
  {
   "cell_type": "code",
   "execution_count": 40,
   "id": "e11206d4",
   "metadata": {},
   "outputs": [],
   "source": [
    "df[categorical]=df[categorical].astype(str)"
   ]
  },
  {
   "cell_type": "code",
   "execution_count": 41,
   "id": "a27997bc",
   "metadata": {},
   "outputs": [
    {
     "data": {
      "text/plain": [
       "PULocationID    object\n",
       "DOLocationID    object\n",
       "dtype: object"
      ]
     },
     "execution_count": 41,
     "metadata": {},
     "output_type": "execute_result"
    }
   ],
   "source": [
    "df[categorical].dtypes"
   ]
  },
  {
   "cell_type": "code",
   "execution_count": 53,
   "id": "6f6edc73",
   "metadata": {},
   "outputs": [],
   "source": [
    "def read_df(filename):\n",
    "    df = pd.read_parquet(filename)\n",
    "\n",
    "    df.lpep_pickup_datetime = pd.to_datetime(df.lpep_pickup_datetime)\n",
    "    df.lpep_dropoff_datetime = pd.to_datetime(df.lpep_dropoff_datetime)\n",
    "\n",
    "    df['duration']=df.lpep_dropoff_datetime - df.lpep_pickup_datetime \n",
    "\n",
    "    df.duration = df.duration.apply(lambda td: td.total_seconds()/60)\n",
    "    df= df[((df.duration>=1) &(df.duration<=60))]\n",
    "\n",
    "    categorical=['PULocationID', 'DOLocationID']\n",
    "\n",
    "    df[categorical]=df[categorical].astype(str)\n",
    "    return df"
   ]
  },
  {
   "cell_type": "code",
   "execution_count": 55,
   "id": "74e016ca",
   "metadata": {},
   "outputs": [],
   "source": [
    "filename_train ='./data/green_tripdata_2021-01.parquet'\n",
    "filename_val = './data/green_tripdata_2021-02.parquet'\n",
    "df_train = read_df(filename_train)\n",
    "df_val = read_df(filename_val)"
   ]
  },
  {
   "cell_type": "code",
   "execution_count": 57,
   "id": "b04adeb1",
   "metadata": {},
   "outputs": [
    {
     "data": {
      "text/plain": [
       "(73908, 61921)"
      ]
     },
     "execution_count": 57,
     "metadata": {},
     "output_type": "execute_result"
    }
   ],
   "source": [
    "len(df_train), len(df_val)"
   ]
  },
  {
   "cell_type": "code",
   "execution_count": 64,
   "id": "87fd3a7f",
   "metadata": {},
   "outputs": [],
   "source": [
    "df_train['PU_DO'] = df_train['PULocationID']+'_'+df_train['DOLocationID']\n",
    "df_val['PU_DO'] = df_val['PULocationID']+'_'+df_val['DOLocationID']\n"
   ]
  },
  {
   "cell_type": "code",
   "execution_count": 65,
   "id": "b9d3d3f0",
   "metadata": {},
   "outputs": [],
   "source": [
    "dv = DictVectorizer()\n",
    "\n",
    "categorical= ['PU_DO'] #['PULocationID', 'DOLocationID']\n",
    "numerical=['trip_distance']\n",
    "\n",
    "train_dicts = df_train[categorical+numerical].to_dict(orient='records')\n",
    "X_train = dv.fit_transform(train_dicts)\n",
    "\n",
    "val_dicts = df_val[categorical+numerical].to_dict(orient='records')\n",
    "X_val = dv.transform(val_dicts)"
   ]
  },
  {
   "cell_type": "code",
   "execution_count": 66,
   "id": "b1d89f5e",
   "metadata": {},
   "outputs": [],
   "source": [
    "y_train = df_train['duration'].values\n",
    "y_val = df_val['duration'].values"
   ]
  },
  {
   "cell_type": "code",
   "execution_count": 67,
   "id": "3d2e8b4f",
   "metadata": {},
   "outputs": [
    {
     "data": {
      "text/plain": [
       "7.4793657829373155"
      ]
     },
     "execution_count": 67,
     "metadata": {},
     "output_type": "execute_result"
    }
   ],
   "source": [
    "lr = LinearRegression()\n",
    "lr.fit(X_train,y_train)\n",
    "\n",
    "y_pred = lr.predict(X_val)\n",
    "\n",
    "mean_squared_error(y_val, y_pred, squared=False)"
   ]
  },
  {
   "cell_type": "code",
   "execution_count": 72,
   "id": "acdf151f",
   "metadata": {},
   "outputs": [],
   "source": [
    "with open ('models/lin_reg.bin', 'wb') as f_out:\n",
    "    pickle.dump((dv,lr), f_out)"
   ]
  },
  {
   "cell_type": "code",
   "execution_count": 68,
   "id": "bc70f1bc",
   "metadata": {},
   "outputs": [
    {
     "data": {
      "text/plain": [
       "9.233436225720547"
      ]
     },
     "execution_count": 68,
     "metadata": {},
     "output_type": "execute_result"
    }
   ],
   "source": [
    "la = Lasso(alpha = 0.001)\n",
    "la.fit(X_train,y_train)\n",
    "\n",
    "y_pred = la.predict(X_val)\n",
    "\n",
    "mean_squared_error(y_val, y_pred, squared=False)"
   ]
  },
  {
   "cell_type": "code",
   "execution_count": 45,
   "id": "30fc9b84",
   "metadata": {},
   "outputs": [
    {
     "data": {
      "text/plain": [
       "['DOLocationID=1',\n",
       " 'DOLocationID=10',\n",
       " 'DOLocationID=100',\n",
       " 'DOLocationID=101',\n",
       " 'DOLocationID=102',\n",
       " 'DOLocationID=106',\n",
       " 'DOLocationID=107',\n",
       " 'DOLocationID=108',\n",
       " 'DOLocationID=109',\n",
       " 'DOLocationID=11',\n",
       " 'DOLocationID=111',\n",
       " 'DOLocationID=112',\n",
       " 'DOLocationID=113',\n",
       " 'DOLocationID=114',\n",
       " 'DOLocationID=115',\n",
       " 'DOLocationID=116',\n",
       " 'DOLocationID=117',\n",
       " 'DOLocationID=118',\n",
       " 'DOLocationID=119',\n",
       " 'DOLocationID=12',\n",
       " 'DOLocationID=120',\n",
       " 'DOLocationID=121',\n",
       " 'DOLocationID=122',\n",
       " 'DOLocationID=123',\n",
       " 'DOLocationID=124',\n",
       " 'DOLocationID=125',\n",
       " 'DOLocationID=126',\n",
       " 'DOLocationID=127',\n",
       " 'DOLocationID=128',\n",
       " 'DOLocationID=129',\n",
       " 'DOLocationID=13',\n",
       " 'DOLocationID=130',\n",
       " 'DOLocationID=131',\n",
       " 'DOLocationID=132',\n",
       " 'DOLocationID=133',\n",
       " 'DOLocationID=134',\n",
       " 'DOLocationID=135',\n",
       " 'DOLocationID=136',\n",
       " 'DOLocationID=137',\n",
       " 'DOLocationID=138',\n",
       " 'DOLocationID=139',\n",
       " 'DOLocationID=14',\n",
       " 'DOLocationID=140',\n",
       " 'DOLocationID=141',\n",
       " 'DOLocationID=142',\n",
       " 'DOLocationID=143',\n",
       " 'DOLocationID=144',\n",
       " 'DOLocationID=145',\n",
       " 'DOLocationID=146',\n",
       " 'DOLocationID=147',\n",
       " 'DOLocationID=148',\n",
       " 'DOLocationID=149',\n",
       " 'DOLocationID=15',\n",
       " 'DOLocationID=150',\n",
       " 'DOLocationID=151',\n",
       " 'DOLocationID=152',\n",
       " 'DOLocationID=153',\n",
       " 'DOLocationID=154',\n",
       " 'DOLocationID=155',\n",
       " 'DOLocationID=156',\n",
       " 'DOLocationID=157',\n",
       " 'DOLocationID=158',\n",
       " 'DOLocationID=159',\n",
       " 'DOLocationID=16',\n",
       " 'DOLocationID=160',\n",
       " 'DOLocationID=161',\n",
       " 'DOLocationID=162',\n",
       " 'DOLocationID=163',\n",
       " 'DOLocationID=164',\n",
       " 'DOLocationID=165',\n",
       " 'DOLocationID=166',\n",
       " 'DOLocationID=167',\n",
       " 'DOLocationID=168',\n",
       " 'DOLocationID=169',\n",
       " 'DOLocationID=17',\n",
       " 'DOLocationID=170',\n",
       " 'DOLocationID=171',\n",
       " 'DOLocationID=172',\n",
       " 'DOLocationID=173',\n",
       " 'DOLocationID=174',\n",
       " 'DOLocationID=175',\n",
       " 'DOLocationID=177',\n",
       " 'DOLocationID=178',\n",
       " 'DOLocationID=179',\n",
       " 'DOLocationID=18',\n",
       " 'DOLocationID=180',\n",
       " 'DOLocationID=181',\n",
       " 'DOLocationID=182',\n",
       " 'DOLocationID=183',\n",
       " 'DOLocationID=184',\n",
       " 'DOLocationID=185',\n",
       " 'DOLocationID=186',\n",
       " 'DOLocationID=187',\n",
       " 'DOLocationID=188',\n",
       " 'DOLocationID=189',\n",
       " 'DOLocationID=19',\n",
       " 'DOLocationID=190',\n",
       " 'DOLocationID=191',\n",
       " 'DOLocationID=192',\n",
       " 'DOLocationID=193',\n",
       " 'DOLocationID=194',\n",
       " 'DOLocationID=195',\n",
       " 'DOLocationID=196',\n",
       " 'DOLocationID=197',\n",
       " 'DOLocationID=198',\n",
       " 'DOLocationID=2',\n",
       " 'DOLocationID=20',\n",
       " 'DOLocationID=200',\n",
       " 'DOLocationID=201',\n",
       " 'DOLocationID=202',\n",
       " 'DOLocationID=203',\n",
       " 'DOLocationID=205',\n",
       " 'DOLocationID=206',\n",
       " 'DOLocationID=207',\n",
       " 'DOLocationID=208',\n",
       " 'DOLocationID=209',\n",
       " 'DOLocationID=21',\n",
       " 'DOLocationID=210',\n",
       " 'DOLocationID=211',\n",
       " 'DOLocationID=212',\n",
       " 'DOLocationID=213',\n",
       " 'DOLocationID=214',\n",
       " 'DOLocationID=215',\n",
       " 'DOLocationID=216',\n",
       " 'DOLocationID=217',\n",
       " 'DOLocationID=218',\n",
       " 'DOLocationID=219',\n",
       " 'DOLocationID=22',\n",
       " 'DOLocationID=220',\n",
       " 'DOLocationID=221',\n",
       " 'DOLocationID=222',\n",
       " 'DOLocationID=223',\n",
       " 'DOLocationID=224',\n",
       " 'DOLocationID=225',\n",
       " 'DOLocationID=226',\n",
       " 'DOLocationID=227',\n",
       " 'DOLocationID=228',\n",
       " 'DOLocationID=229',\n",
       " 'DOLocationID=23',\n",
       " 'DOLocationID=230',\n",
       " 'DOLocationID=231',\n",
       " 'DOLocationID=232',\n",
       " 'DOLocationID=233',\n",
       " 'DOLocationID=234',\n",
       " 'DOLocationID=235',\n",
       " 'DOLocationID=236',\n",
       " 'DOLocationID=237',\n",
       " 'DOLocationID=238',\n",
       " 'DOLocationID=239',\n",
       " 'DOLocationID=24',\n",
       " 'DOLocationID=240',\n",
       " 'DOLocationID=241',\n",
       " 'DOLocationID=242',\n",
       " 'DOLocationID=243',\n",
       " 'DOLocationID=244',\n",
       " 'DOLocationID=245',\n",
       " 'DOLocationID=246',\n",
       " 'DOLocationID=247',\n",
       " 'DOLocationID=248',\n",
       " 'DOLocationID=249',\n",
       " 'DOLocationID=25',\n",
       " 'DOLocationID=250',\n",
       " 'DOLocationID=251',\n",
       " 'DOLocationID=252',\n",
       " 'DOLocationID=253',\n",
       " 'DOLocationID=254',\n",
       " 'DOLocationID=255',\n",
       " 'DOLocationID=256',\n",
       " 'DOLocationID=257',\n",
       " 'DOLocationID=258',\n",
       " 'DOLocationID=259',\n",
       " 'DOLocationID=26',\n",
       " 'DOLocationID=260',\n",
       " 'DOLocationID=261',\n",
       " 'DOLocationID=262',\n",
       " 'DOLocationID=263',\n",
       " 'DOLocationID=264',\n",
       " 'DOLocationID=265',\n",
       " 'DOLocationID=27',\n",
       " 'DOLocationID=28',\n",
       " 'DOLocationID=29',\n",
       " 'DOLocationID=3',\n",
       " 'DOLocationID=30',\n",
       " 'DOLocationID=31',\n",
       " 'DOLocationID=32',\n",
       " 'DOLocationID=33',\n",
       " 'DOLocationID=34',\n",
       " 'DOLocationID=35',\n",
       " 'DOLocationID=36',\n",
       " 'DOLocationID=37',\n",
       " 'DOLocationID=38',\n",
       " 'DOLocationID=39',\n",
       " 'DOLocationID=4',\n",
       " 'DOLocationID=40',\n",
       " 'DOLocationID=41',\n",
       " 'DOLocationID=42',\n",
       " 'DOLocationID=43',\n",
       " 'DOLocationID=44',\n",
       " 'DOLocationID=45',\n",
       " 'DOLocationID=46',\n",
       " 'DOLocationID=47',\n",
       " 'DOLocationID=48',\n",
       " 'DOLocationID=49',\n",
       " 'DOLocationID=50',\n",
       " 'DOLocationID=51',\n",
       " 'DOLocationID=52',\n",
       " 'DOLocationID=53',\n",
       " 'DOLocationID=54',\n",
       " 'DOLocationID=55',\n",
       " 'DOLocationID=56',\n",
       " 'DOLocationID=57',\n",
       " 'DOLocationID=58',\n",
       " 'DOLocationID=59',\n",
       " 'DOLocationID=6',\n",
       " 'DOLocationID=60',\n",
       " 'DOLocationID=61',\n",
       " 'DOLocationID=62',\n",
       " 'DOLocationID=63',\n",
       " 'DOLocationID=64',\n",
       " 'DOLocationID=65',\n",
       " 'DOLocationID=66',\n",
       " 'DOLocationID=67',\n",
       " 'DOLocationID=68',\n",
       " 'DOLocationID=69',\n",
       " 'DOLocationID=7',\n",
       " 'DOLocationID=70',\n",
       " 'DOLocationID=71',\n",
       " 'DOLocationID=72',\n",
       " 'DOLocationID=73',\n",
       " 'DOLocationID=74',\n",
       " 'DOLocationID=75',\n",
       " 'DOLocationID=76',\n",
       " 'DOLocationID=77',\n",
       " 'DOLocationID=78',\n",
       " 'DOLocationID=79',\n",
       " 'DOLocationID=8',\n",
       " 'DOLocationID=80',\n",
       " 'DOLocationID=81',\n",
       " 'DOLocationID=82',\n",
       " 'DOLocationID=83',\n",
       " 'DOLocationID=84',\n",
       " 'DOLocationID=85',\n",
       " 'DOLocationID=86',\n",
       " 'DOLocationID=87',\n",
       " 'DOLocationID=88',\n",
       " 'DOLocationID=89',\n",
       " 'DOLocationID=9',\n",
       " 'DOLocationID=90',\n",
       " 'DOLocationID=91',\n",
       " 'DOLocationID=92',\n",
       " 'DOLocationID=93',\n",
       " 'DOLocationID=94',\n",
       " 'DOLocationID=95',\n",
       " 'DOLocationID=96',\n",
       " 'DOLocationID=97',\n",
       " 'DOLocationID=98',\n",
       " 'PULocationID=10',\n",
       " 'PULocationID=100',\n",
       " 'PULocationID=101',\n",
       " 'PULocationID=102',\n",
       " 'PULocationID=106',\n",
       " 'PULocationID=107',\n",
       " 'PULocationID=108',\n",
       " 'PULocationID=11',\n",
       " 'PULocationID=112',\n",
       " 'PULocationID=113',\n",
       " 'PULocationID=114',\n",
       " 'PULocationID=115',\n",
       " 'PULocationID=116',\n",
       " 'PULocationID=117',\n",
       " 'PULocationID=118',\n",
       " 'PULocationID=119',\n",
       " 'PULocationID=12',\n",
       " 'PULocationID=120',\n",
       " 'PULocationID=121',\n",
       " 'PULocationID=122',\n",
       " 'PULocationID=123',\n",
       " 'PULocationID=124',\n",
       " 'PULocationID=125',\n",
       " 'PULocationID=126',\n",
       " 'PULocationID=127',\n",
       " 'PULocationID=128',\n",
       " 'PULocationID=129',\n",
       " 'PULocationID=13',\n",
       " 'PULocationID=130',\n",
       " 'PULocationID=131',\n",
       " 'PULocationID=132',\n",
       " 'PULocationID=133',\n",
       " 'PULocationID=134',\n",
       " 'PULocationID=135',\n",
       " 'PULocationID=136',\n",
       " 'PULocationID=137',\n",
       " 'PULocationID=138',\n",
       " 'PULocationID=139',\n",
       " 'PULocationID=14',\n",
       " 'PULocationID=140',\n",
       " 'PULocationID=141',\n",
       " 'PULocationID=142',\n",
       " 'PULocationID=143',\n",
       " 'PULocationID=144',\n",
       " 'PULocationID=145',\n",
       " 'PULocationID=146',\n",
       " 'PULocationID=147',\n",
       " 'PULocationID=148',\n",
       " 'PULocationID=149',\n",
       " 'PULocationID=15',\n",
       " 'PULocationID=150',\n",
       " 'PULocationID=151',\n",
       " 'PULocationID=152',\n",
       " 'PULocationID=153',\n",
       " 'PULocationID=154',\n",
       " 'PULocationID=155',\n",
       " 'PULocationID=156',\n",
       " 'PULocationID=157',\n",
       " 'PULocationID=158',\n",
       " 'PULocationID=159',\n",
       " 'PULocationID=16',\n",
       " 'PULocationID=160',\n",
       " 'PULocationID=161',\n",
       " 'PULocationID=162',\n",
       " 'PULocationID=163',\n",
       " 'PULocationID=164',\n",
       " 'PULocationID=165',\n",
       " 'PULocationID=166',\n",
       " 'PULocationID=167',\n",
       " 'PULocationID=168',\n",
       " 'PULocationID=169',\n",
       " 'PULocationID=17',\n",
       " 'PULocationID=170',\n",
       " 'PULocationID=171',\n",
       " 'PULocationID=172',\n",
       " 'PULocationID=173',\n",
       " 'PULocationID=174',\n",
       " 'PULocationID=175',\n",
       " 'PULocationID=176',\n",
       " 'PULocationID=177',\n",
       " 'PULocationID=178',\n",
       " 'PULocationID=179',\n",
       " 'PULocationID=18',\n",
       " 'PULocationID=180',\n",
       " 'PULocationID=181',\n",
       " 'PULocationID=182',\n",
       " 'PULocationID=183',\n",
       " 'PULocationID=184',\n",
       " 'PULocationID=185',\n",
       " 'PULocationID=186',\n",
       " 'PULocationID=187',\n",
       " 'PULocationID=188',\n",
       " 'PULocationID=189',\n",
       " 'PULocationID=19',\n",
       " 'PULocationID=190',\n",
       " 'PULocationID=191',\n",
       " 'PULocationID=192',\n",
       " 'PULocationID=193',\n",
       " 'PULocationID=194',\n",
       " 'PULocationID=195',\n",
       " 'PULocationID=196',\n",
       " 'PULocationID=197',\n",
       " 'PULocationID=198',\n",
       " 'PULocationID=20',\n",
       " 'PULocationID=200',\n",
       " 'PULocationID=201',\n",
       " 'PULocationID=202',\n",
       " 'PULocationID=203',\n",
       " 'PULocationID=205',\n",
       " 'PULocationID=206',\n",
       " 'PULocationID=207',\n",
       " 'PULocationID=208',\n",
       " 'PULocationID=209',\n",
       " 'PULocationID=21',\n",
       " 'PULocationID=210',\n",
       " 'PULocationID=211',\n",
       " 'PULocationID=212',\n",
       " 'PULocationID=213',\n",
       " 'PULocationID=214',\n",
       " 'PULocationID=215',\n",
       " 'PULocationID=216',\n",
       " 'PULocationID=217',\n",
       " 'PULocationID=218',\n",
       " 'PULocationID=219',\n",
       " 'PULocationID=22',\n",
       " 'PULocationID=220',\n",
       " 'PULocationID=221',\n",
       " 'PULocationID=222',\n",
       " 'PULocationID=223',\n",
       " 'PULocationID=224',\n",
       " 'PULocationID=225',\n",
       " 'PULocationID=226',\n",
       " 'PULocationID=227',\n",
       " 'PULocationID=228',\n",
       " 'PULocationID=229',\n",
       " 'PULocationID=23',\n",
       " 'PULocationID=230',\n",
       " 'PULocationID=231',\n",
       " 'PULocationID=232',\n",
       " 'PULocationID=233',\n",
       " 'PULocationID=234',\n",
       " 'PULocationID=235',\n",
       " 'PULocationID=236',\n",
       " 'PULocationID=237',\n",
       " 'PULocationID=238',\n",
       " 'PULocationID=239',\n",
       " 'PULocationID=24',\n",
       " 'PULocationID=240',\n",
       " 'PULocationID=241',\n",
       " 'PULocationID=242',\n",
       " 'PULocationID=243',\n",
       " 'PULocationID=244',\n",
       " 'PULocationID=245',\n",
       " 'PULocationID=246',\n",
       " 'PULocationID=247',\n",
       " 'PULocationID=248',\n",
       " 'PULocationID=249',\n",
       " 'PULocationID=25',\n",
       " 'PULocationID=250',\n",
       " 'PULocationID=252',\n",
       " 'PULocationID=253',\n",
       " 'PULocationID=254',\n",
       " 'PULocationID=255',\n",
       " 'PULocationID=256',\n",
       " 'PULocationID=257',\n",
       " 'PULocationID=258',\n",
       " 'PULocationID=259',\n",
       " 'PULocationID=26',\n",
       " 'PULocationID=260',\n",
       " 'PULocationID=261',\n",
       " 'PULocationID=262',\n",
       " 'PULocationID=263',\n",
       " 'PULocationID=264',\n",
       " 'PULocationID=265',\n",
       " 'PULocationID=27',\n",
       " 'PULocationID=28',\n",
       " 'PULocationID=29',\n",
       " 'PULocationID=3',\n",
       " 'PULocationID=31',\n",
       " 'PULocationID=32',\n",
       " 'PULocationID=33',\n",
       " 'PULocationID=34',\n",
       " 'PULocationID=35',\n",
       " 'PULocationID=36',\n",
       " 'PULocationID=37',\n",
       " 'PULocationID=38',\n",
       " 'PULocationID=39',\n",
       " 'PULocationID=4',\n",
       " 'PULocationID=40',\n",
       " 'PULocationID=41',\n",
       " 'PULocationID=42',\n",
       " 'PULocationID=43',\n",
       " 'PULocationID=44',\n",
       " 'PULocationID=45',\n",
       " 'PULocationID=46',\n",
       " 'PULocationID=47',\n",
       " 'PULocationID=48',\n",
       " 'PULocationID=49',\n",
       " 'PULocationID=50',\n",
       " 'PULocationID=51',\n",
       " 'PULocationID=52',\n",
       " 'PULocationID=53',\n",
       " 'PULocationID=54',\n",
       " 'PULocationID=55',\n",
       " 'PULocationID=56',\n",
       " 'PULocationID=57',\n",
       " 'PULocationID=58',\n",
       " 'PULocationID=59',\n",
       " 'PULocationID=60',\n",
       " 'PULocationID=61',\n",
       " 'PULocationID=62',\n",
       " 'PULocationID=63',\n",
       " 'PULocationID=64',\n",
       " 'PULocationID=65',\n",
       " 'PULocationID=66',\n",
       " 'PULocationID=67',\n",
       " 'PULocationID=68',\n",
       " 'PULocationID=69',\n",
       " 'PULocationID=7',\n",
       " 'PULocationID=70',\n",
       " 'PULocationID=71',\n",
       " 'PULocationID=72',\n",
       " 'PULocationID=73',\n",
       " 'PULocationID=74',\n",
       " 'PULocationID=75',\n",
       " 'PULocationID=76',\n",
       " 'PULocationID=77',\n",
       " 'PULocationID=78',\n",
       " 'PULocationID=79',\n",
       " 'PULocationID=8',\n",
       " 'PULocationID=80',\n",
       " 'PULocationID=81',\n",
       " 'PULocationID=82',\n",
       " 'PULocationID=83',\n",
       " 'PULocationID=84',\n",
       " 'PULocationID=85',\n",
       " 'PULocationID=86',\n",
       " 'PULocationID=87',\n",
       " 'PULocationID=88',\n",
       " 'PULocationID=89',\n",
       " 'PULocationID=9',\n",
       " 'PULocationID=90',\n",
       " 'PULocationID=91',\n",
       " 'PULocationID=92',\n",
       " 'PULocationID=93',\n",
       " 'PULocationID=94',\n",
       " 'PULocationID=95',\n",
       " 'PULocationID=96',\n",
       " 'PULocationID=97',\n",
       " 'PULocationID=98',\n",
       " 'trip_distance']"
      ]
     },
     "execution_count": 45,
     "metadata": {},
     "output_type": "execute_result"
    }
   ],
   "source": [
    "dv.feature_names_"
   ]
  },
  {
   "cell_type": "code",
   "execution_count": 46,
   "id": "c0decc43",
   "metadata": {},
   "outputs": [],
   "source": [
    "y_train = df['duration'].values"
   ]
  },
  {
   "cell_type": "code",
   "execution_count": 47,
   "id": "c3f90087",
   "metadata": {},
   "outputs": [
    {
     "data": {
      "text/plain": [
       "LinearRegression()"
      ]
     },
     "execution_count": 47,
     "metadata": {},
     "output_type": "execute_result"
    }
   ],
   "source": [
    "lr = LinearRegression()\n",
    "lr.fit(X_train,y_train)"
   ]
  },
  {
   "cell_type": "code",
   "execution_count": 48,
   "id": "1a4f2ed8",
   "metadata": {},
   "outputs": [],
   "source": [
    "y_pred = lr.predict(X_train)"
   ]
  },
  {
   "cell_type": "code",
   "execution_count": 49,
   "id": "35577168",
   "metadata": {},
   "outputs": [
    {
     "name": "stderr",
     "output_type": "stream",
     "text": [
      "/home/mlops_zoomcamp/anaconda3/lib/python3.9/site-packages/seaborn/distributions.py:2619: FutureWarning: `distplot` is a deprecated function and will be removed in a future version. Please adapt your code to use either `displot` (a figure-level function with similar flexibility) or `histplot` (an axes-level function for histograms).\n",
      "  warnings.warn(msg, FutureWarning)\n",
      "/home/mlops_zoomcamp/anaconda3/lib/python3.9/site-packages/seaborn/distributions.py:2619: FutureWarning: `distplot` is a deprecated function and will be removed in a future version. Please adapt your code to use either `displot` (a figure-level function with similar flexibility) or `histplot` (an axes-level function for histograms).\n",
      "  warnings.warn(msg, FutureWarning)\n"
     ]
    },
    {
     "data": {
      "text/plain": [
       "<matplotlib.legend.Legend at 0x7f57f5d1f160>"
      ]
     },
     "execution_count": 49,
     "metadata": {},
     "output_type": "execute_result"
    },
    {
     "data": {
      "image/png": "[encoded data removed]",
      "text/plain": [
       "<Figure size 432x288 with 1 Axes>"
      ]
     },
     "metadata": {
      "needs_background": "light"
     },
     "output_type": "display_data"
    }
   ],
   "source": [
    "sns.distplot(y_train, label ='actual')\n",
    "sns.distplot(y_pred, label ='prediction')\n",
    "plt.legend()"
   ]
  },
  {
   "cell_type": "code",
   "execution_count": 51,
   "id": "a12258de",
   "metadata": {},
   "outputs": [
    {
     "data": {
      "text/plain": [
       "9.775464278878395"
      ]
     },
     "execution_count": 51,
     "metadata": {},
     "output_type": "execute_result"
    }
   ],
   "source": [
    "mean_squared_error(y_train, y_pred, squared=False)"
   ]
  },
  {
   "cell_type": "code",
   "execution_count": null,
   "id": "d881e441",
   "metadata": {},
   "outputs": [],
   "source": [
    "la = Lasso()\n",
    "la.fit(X_train,y_train)\n",
    "y_pred = la.predict(X_train)\n",
    "mean_squared_error(y_train, y_pred, squared=False)"
   ]
  }
 ],
 "metadata": {
  "kernelspec": {
   "display_name": "Python 3 (ipykernel)",
   "language": "python",
   "name": "python3"
  },
  "language_info": {
   "codemirror_mode": {
    "name": "ipython",
    "version": 3
   },
   "file_extension": ".py",
   "mimetype": "text/x-python",
   "name": "python",
   "nbconvert_exporter": "python",
   "pygments_lexer": "ipython3",
   "version": "3.9.12"
  }
 },
 "nbformat": 4,
 "nbformat_minor": 5
}
