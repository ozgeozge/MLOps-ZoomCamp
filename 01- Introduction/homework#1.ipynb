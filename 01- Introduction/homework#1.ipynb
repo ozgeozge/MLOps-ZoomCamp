{
 "cells": [
  {
   "cell_type": "markdown",
   "id": "494dfc30",
   "metadata": {},
   "source": [
    "Dataset Link: https://www.nyc.gov/site/tlc/about/tlc-trip-record-data.page"
   ]
  },
  {
   "cell_type": "code",
   "execution_count": null,
   "id": "d68a1382",
   "metadata": {},
   "outputs": [],
   "source": [
    "import pandas as pd\n",
    "from sklearn.feature_extraction import DictVectorizer\n",
    "from sklearn.linear_model import LinearRegression, Lasso, Ridge\n",
    "from sklearn.metrics import mean_squared_error"
   ]
  },
  {
   "cell_type": "code",
   "execution_count": 27,
   "id": "d92cd50c",
   "metadata": {},
   "outputs": [],
   "source": [
    "def read_df(filename):\n",
    "    df = pd.read_parquet(filename)\n",
    "    print(\"number of columns in the dataset: \"+str(len(df.columns)))\n",
    "    df.tpep_pickup_datetime = pd.to_datetime(df.tpep_pickup_datetime)\n",
    "    df.tpep_dropoff_datetime = pd.to_datetime(df.tpep_dropoff_datetime)\n",
    "\n",
    "    df['duration']=df.tpep_dropoff_datetime - df.tpep_pickup_datetime \n",
    "\n",
    "    df.duration = df.duration.apply(lambda td: td.total_seconds()/60)\n",
    "    print(\"duration std \"+str(df.duration.std()))\n",
    "    before= df.shape[0]\n",
    "    print(\"before removing outliers: \"+str(before ))\n",
    "    df= df[((df.duration>=1) &(df.duration<=60))]\n",
    "    after = df.shape[0]\n",
    "    print(\"after removing outliers: \"+ str(after))\n",
    "    print(\"ratio: \" + str(after/before))\n",
    "    categorical=['PULocationID', 'DOLocationID']\n",
    "\n",
    "    df[categorical]=df[categorical].astype(str)\n",
    "    return df"
   ]
  },
  {
   "cell_type": "code",
   "execution_count": 28,
   "id": "38e98b33",
   "metadata": {},
   "outputs": [
    {
     "name": "stdout",
     "output_type": "stream",
     "text": [
      "number of columns in the dataset: 19\n",
      "duration std 46.44530513776499\n",
      "before removing outliers: 2463931\n",
      "after removing outliers: 2421440\n",
      "ratio: 0.9827547930522406\n"
     ]
    }
   ],
   "source": [
    "filename_train ='./data/yellow_tripdata_2022-01.parquet'\n",
    "df_train = read_df(filename_train)"
   ]
  },
  {
   "cell_type": "code",
   "execution_count": 29,
   "id": "15dc8a6d",
   "metadata": {},
   "outputs": [
    {
     "name": "stdout",
     "output_type": "stream",
     "text": [
      "number of columns in the dataset: 19\n",
      "duration std 47.26394076781901\n",
      "before removing outliers: 2979431\n",
      "after removing outliers: 2918187\n",
      "ratio: 0.979444397269143\n"
     ]
    }
   ],
   "source": [
    "filename_val = './data/yellow_tripdata_2022-02.parquet'\n",
    "df_val = read_df(filename_val)"
   ]
  },
  {
   "cell_type": "code",
   "execution_count": 19,
   "id": "239cb454",
   "metadata": {},
   "outputs": [],
   "source": [
    "dv = DictVectorizer()\n",
    "\n",
    "categorical= ['PULocationID', 'DOLocationID']\n",
    "\n",
    "train_dicts = df_train[categorical].to_dict(orient='records')\n",
    "X_train = dv.fit_transform(train_dicts)"
   ]
  },
  {
   "cell_type": "code",
   "execution_count": 22,
   "id": "bc129569",
   "metadata": {},
   "outputs": [],
   "source": [
    "y_train = df_train['duration'].values"
   ]
  },
  {
   "cell_type": "code",
   "execution_count": 25,
   "id": "d1a4ccb1",
   "metadata": {},
   "outputs": [],
   "source": [
    "val_dicts = df_val[categorical].to_dict(orient='records')\n",
    "X_val = dv.transform(val_dicts)\n",
    "y_val = df_val['duration'].values"
   ]
  },
  {
   "cell_type": "code",
   "execution_count": 23,
   "id": "2bdc0439",
   "metadata": {},
   "outputs": [
    {
     "data": {
      "text/plain": [
       "6.986190135969309"
      ]
     },
     "execution_count": 23,
     "metadata": {},
     "output_type": "execute_result"
    }
   ],
   "source": [
    "lr = LinearRegression()\n",
    "lr.fit(X_train,y_train)\n",
    "\n",
    "y_pred = lr.predict(X_train)\n",
    "\n",
    "mean_squared_error(y_train, y_pred, squared=False)"
   ]
  },
  {
   "cell_type": "code",
   "execution_count": 21,
   "id": "096f787b",
   "metadata": {},
   "outputs": [
    {
     "data": {
      "text/plain": [
       "515"
      ]
     },
     "execution_count": 21,
     "metadata": {},
     "output_type": "execute_result"
    }
   ],
   "source": [
    "len(dv.feature_names_)"
   ]
  },
  {
   "cell_type": "code",
   "execution_count": 26,
   "id": "a02c6a0c",
   "metadata": {},
   "outputs": [
    {
     "data": {
      "text/plain": [
       "7.786389386061076"
      ]
     },
     "execution_count": 26,
     "metadata": {},
     "output_type": "execute_result"
    }
   ],
   "source": [
    "y_pred = lr.predict(X_val)\n",
    "mean_squared_error(y_val, y_pred, squared=False)"
   ]
  }
 ],
 "metadata": {
  "kernelspec": {
   "display_name": "Python 3 (ipykernel)",
   "language": "python",
   "name": "python3"
  },
  "language_info": {
   "codemirror_mode": {
    "name": "ipython",
    "version": 3
   },
   "file_extension": ".py",
   "mimetype": "text/x-python",
   "name": "python",
   "nbconvert_exporter": "python",
   "pygments_lexer": "ipython3",
   "version": "3.9.12"
  }
 },
 "nbformat": 4,
 "nbformat_minor": 5
}
